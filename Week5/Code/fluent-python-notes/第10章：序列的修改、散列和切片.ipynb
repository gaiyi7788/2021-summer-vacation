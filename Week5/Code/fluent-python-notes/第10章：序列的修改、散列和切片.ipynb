{
 "cells": [
  {
   "cell_type": "markdown",
   "metadata": {},
   "source": [
    "# 序列的修改、散列和切片\n",
    "> 不要检查它**是不是**鸭子、它的**叫声**像不像鸭子、它的**走路姿势**像不像鸭子，等等。具体检查什么取决于你想用语言的哪些行为。(comp.lang.python, 2000 年 7 月 26 日)  \n",
    "> ——Alex Martelli\n",
    "\n",
    "本章在 `Vector2d` 基础上进行改进以支持多维向量。不过我不想写那么多 `Vector` 代码了，所以我会尝试对里面讲到的知识进行一些抽象。\n",
    "\n",
    "当然，如果有兴趣也可以研究一下书中实现的[多维向量代码](https://github.com/fluentpython/example-code/tree/master/10-seq-hacking)。"
   ]
  },
  {
   "cell_type": "markdown",
   "metadata": {},
   "source": [
    "## Python 序列协议\n",
    "鸭子类型（duck typing）：“如果一个东西长的像鸭子、叫声像鸭子、走路像鸭子，那我们可以认为它就是鸭子。”\n",
    "\n",
    "Python 中，如果我们在类上实现了 `__len__` 和 `__getitem__` 接口，我们就可以把它用在任何期待序列的场景中。"
   ]
  },
  {
   "cell_type": "code",
   "execution_count": 11,
   "metadata": {},
   "outputs": [
    {
     "name": "stdout",
     "output_type": "stream",
     "text": [
      "3\n",
      "[3, 4] [1, 2, 3, 4, 5] [1, 3, 5] [4, 5] [1, 2, 3, 4, 5]\n",
      "[1, 2, 3, 4] [5, 4, 3, 2]\n"
     ]
    }
   ],
   "source": [
    "# 序列协议中的切片\n",
    "class SomeSeq:\n",
    "    def __init__(self, seq):\n",
    "        self._seq = list(seq)\n",
    "    \n",
    "    def __len__(self):\n",
    "        return len(self._seq)\n",
    "\n",
    "    def __getitem__(self, index):\n",
    "        if isinstance(index, slice):\n",
    "            # 专门对 slice 做一个自己的实现\n",
    "            start, stop = index.start, index.stop\n",
    "            step = index.step\n",
    "            \n",
    "            if start is None:\n",
    "                start = 0\n",
    "            elif start < 0:\n",
    "                start = len(self) + start\n",
    "            else:\n",
    "                start = min(start, len(self))\n",
    "            if stop is None:\n",
    "                stop = len(self)\n",
    "            elif stop < 0:\n",
    "                stop = len(self) + stop\n",
    "            else:\n",
    "                stop = min(stop, len(self))\n",
    "            if step is None:\n",
    "                step = 1\n",
    "            elif step == 0:\n",
    "                raise ValueError(\"slice step cannot be zero\")\n",
    "\n",
    "            # 以上的复杂逻辑可以直接使用 slice 的接口\n",
    "            # start, stop, step = index.indices(len(self))\n",
    "            index_range = range(start, stop, step)\n",
    "            return [self._seq[i] for i in index_range]\n",
    "        else:\n",
    "            return self._seq[index]\n",
    "\n",
    "        \n",
    "seq = SomeSeq([1, 2, 3, 4, 5])\n",
    "print(seq[2])\n",
    "print(seq[2:4], seq[:5], seq[:5:2], seq[3:], seq[:200])\n",
    "print(seq[:-1], seq[-1:-5:-1])"
   ]
  },
  {
   "cell_type": "code",
   "execution_count": 12,
   "metadata": {
    "scrolled": false
   },
   "outputs": [
    {
     "name": "stdout",
     "output_type": "stream",
     "text": [
      "(1, 2, 3)\n",
      "(slice(None, 5, None), slice(2, 5, 2), slice(-1, 5, 3))\n"
     ]
    }
   ],
   "source": [
    "# __getitem__ 的参数不一定是单个值或者 slice，还有可能是 tuple\n",
    "class SomeSeq:\n",
    "    def __init__(self, seq):\n",
    "        self._seq = list(seq)\n",
    "    \n",
    "    def __len__(self):\n",
    "        return len(self._seq)\n",
    "\n",
    "    def __getitem__(self, item):\n",
    "        return item\n",
    "\n",
    "seq = SomeSeq([1, 2, 3, 4, 5])\n",
    "print(seq[1, 2, 3])\n",
    "print(seq[:5, 2:5:2, -1:5:3])"
   ]
  },
  {
   "cell_type": "code",
   "execution_count": 14,
   "metadata": {},
   "outputs": [
    {
     "name": "stdout",
     "output_type": "stream",
     "text": [
      "1 1\n",
      "2 2\n",
      "3 3\n",
      "---\n",
      "0 1\n",
      "1 2\n",
      "2 3\n",
      "---\n",
      "[(1, 2, 3), (4, 5, 6), (7, 8, 9)]\n"
     ]
    }
   ],
   "source": [
    "# zip 和 enumerate: 知道这两个方法可以简化一些场景\n",
    "l1, l2 = [1, 2, 3], [1, 2, 3, 4, 5]\n",
    "for n1, n2 in zip(l1, l2):\n",
    "    print(n1, n2)\n",
    "\n",
    "print('---')\n",
    "# 不要这么写\n",
    "# for index in range(len(l1)):\n",
    "#     print(index, l1[index])\n",
    "for index, obj in enumerate(l1):\n",
    "    print(index, obj)\n",
    "\n",
    "print('---')\n",
    "# list 分组的快捷操作\n",
    "# 注意：只用于序列长度是分组的倍数的场景，否则最后一组会丢失\n",
    "l = [1,2,3,4,5,6,7,8,9]\n",
    "print(list(zip(*[iter(l)] * 3)))"
   ]
  }
 ],
 "metadata": {
  "kernelspec": {
   "display_name": "Python 3",
   "language": "python",
   "name": "python3"
  },
  "language_info": {
   "codemirror_mode": {
    "name": "ipython",
    "version": 3
   },
   "file_extension": ".py",
   "mimetype": "text/x-python",
   "name": "python",
   "nbconvert_exporter": "python",
   "pygments_lexer": "ipython3",
   "version": "3.7.0"
  }
 },
 "nbformat": 4,
 "nbformat_minor": 2
}
