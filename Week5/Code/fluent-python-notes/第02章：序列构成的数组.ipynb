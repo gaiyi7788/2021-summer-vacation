{
 "cells": [
  {
   "cell_type": "markdown",
   "metadata": {},
   "source": [
    "# 序列构成的数组\n",
    "> 你可能注意到了，之前提到的几个操作可以无差别地应用于文本、列表和表格上。  \n",
    "> 我们把文本、列表和表格叫作数据火车……FOR 命令通常能作用于数据火车上。  \n",
    "> ——Geurts、Meertens 和 Pemberton  \n",
    ">   *ABC Programmer’s Handbook*"
   ]
  },
  {
   "cell_type": "markdown",
   "metadata": {},
   "source": [
    "* 容器序列  \n",
    "    `list`、`tuple` 和 `collections.deque` 这些序列能存放不同类型的数据。\n",
    "* 扁平序列  \n",
    "    `str`、`bytes`、`bytearray`、`memoryview` 和 `array.array`，这类序列只能容纳一种类型。\n",
    "   \n",
    "容器序列存放的是它们所包含的任意类型的对象的**引用**，而扁平序列里存放的**是值而不是引用**。换句话说，扁平序列其实是一段连续的内存空间。由此可见扁平序列其实更加紧凑，但是它里面只能存放诸如字符、字节和数值这种基础类型。\n",
    "\n",
    "序列类型还能按照能否被修改来分类。\n",
    "* 可变序列  \n",
    "    `list`、`bytearray`、`array.array`、`collections.deque` 和 `memoryview`。\n",
    "* 不可变序列  \n",
    "    `tuple`、`str` 和 `bytes`"
   ]
  },
  {
   "cell_type": "code",
   "execution_count": null,
   "metadata": {},
   "outputs": [],
   "source": [
    "# 列表推导式和生成器表达式\n",
    "symbols = \"列表推导式\"\n",
    "[ord(symbol) for symbol in symbols]\n",
    "(ord(symbol) for symbol in symbols)"
   ]
  },
  {
   "cell_type": "code",
   "execution_count": null,
   "metadata": {},
   "outputs": [],
   "source": [
    "# 因为 pack/unpack 的存在，元组中的元素会凸显出它们的位置信息\n",
    "first, *others, last = (1, 2, 3, 4, 5)\n",
    "print(first, others, last)\n",
    "# 当然后面很多可迭代对象都支持 unpack 了…"
   ]
  },
  {
   "cell_type": "code",
   "execution_count": null,
   "metadata": {},
   "outputs": [],
   "source": [
    "# namedtuple\n",
    "from collections import namedtuple\n",
    "\n",
    "Point = namedtuple('Point', ['x', 'y'])\n",
    "p = Point(1, 2)\n",
    "print(p, p.x, p.y)\n",
    "# _asdict() 会返回 OrderedDict\n",
    "print(p._asdict())"
   ]
  },
  {
   "cell_type": "code",
   "execution_count": null,
   "metadata": {},
   "outputs": [],
   "source": [
    "# 为什么切片(slice)不返回最后一个元素\n",
    "a = list(range(6))\n",
    "# 使用同一个数即可将列表进行分割\n",
    "print(a[:2], a[2:])"
   ]
  },
  {
   "cell_type": "code",
   "execution_count": null,
   "metadata": {},
   "outputs": [],
   "source": [
    "# Ellipsis\n",
    "def test(first, xxx, last):\n",
    "    print(xxx)\n",
    "    print(type(xxx))\n",
    "    print(xxx == ...)\n",
    "    print(xxx is ...)\n",
    "    return first, last\n",
    "\n",
    "# ... 跟 None 一样，有点神奇\n",
    "print(test(1, ..., 2))"
   ]
  },
  {
   "cell_type": "markdown",
   "metadata": {},
   "source": [
    "### bisect 二分查找"
   ]
  },
  {
   "cell_type": "code",
   "execution_count": null,
   "metadata": {},
   "outputs": [],
   "source": [
    "import bisect\n",
    "def grade(score, breakpoints=[60, 70, 80, 90], grades='FDCBA'):\n",
    "    i = bisect.bisect(breakpoints, score)\n",
    "    return grades[i]\n",
    "\n",
    "print([grade(score) for score in [33, 99, 77, 70, 89, 90, 100]])\n",
    "\n",
    "a = list(range(0, 100, 10))\n",
    "# 插入并保持有序\n",
    "bisect.insort(a, 55)\n",
    "print(a)"
   ]
  },
  {
   "cell_type": "markdown",
   "metadata": {},
   "source": [
    "### Array\n",
    "> 虽然列表既灵活又简单，但面对各类需求时，我们可能会有更好的选择。比如，要存放 1000 万个浮点数的话，数组（array）的效率要高得多，因为数组在背后存的并不是 float 对象，而是数字的机器翻译，也就是字节表述。这一点就跟 C 语言中的数组一样。再比如说，如果需要频繁对序列做先进先出的操作，deque（双端队列）的速度应该会更快。\n",
    "\n",
    "`array.tofile` 和 `fromfile` 可以将数组以二进制格式写入文件，速度要比写入文本文件快很多，文件的体积也小。\n",
    "\n",
    "> 另外一个快速序列化数字类型的方法是使用 pickle（https://docs.python.org/3/library/pickle.html）模块。pickle.dump 处理浮点数组的速度几乎跟array.tofile 一样快。不过前者可以处理几乎所有的内置数字类型，包含复数、嵌套集合，甚至用户自定义的类。前提是这些类没有什么特别复杂的实现。\n",
    "\n",
    "array 具有 `type code` 来表示数组类型：具体可见 [array 文档](https://docs.python.org/3/library/array.html)."
   ]
  },
  {
   "cell_type": "markdown",
   "metadata": {},
   "source": [
    "### memoryview\n",
    "> memoryview.cast 的概念跟数组模块类似，能用不同的方式读写同一块内存数据，而且内容字节不会随意移动。"
   ]
  },
  {
   "cell_type": "code",
   "execution_count": null,
   "metadata": {},
   "outputs": [],
   "source": [
    "import array\n",
    "\n",
    "arr = array.array('h', [1, 2, 3])\n",
    "memv_arr = memoryview(arr)\n",
    "# 把 signed short 的内存使用 char 来呈现\n",
    "memv_char = memv_arr.cast('B') \n",
    "print('Short', memv_arr.tolist())\n",
    "print('Char', memv_char.tolist())\n",
    "memv_char[1] = 2  # 更改 array 第一个数的高位字节\n",
    "# 0x1000000001\n",
    "print(memv_arr.tolist(), arr)\n",
    "print('-' * 10)\n",
    "bytestr = b'123'\n",
    "# bytes 是不允许更改的\n",
    "try:\n",
    "    bytestr[1] = '3'\n",
    "except TypeError as e:\n",
    "    print(repr(e))\n",
    "memv_byte = memoryview(bytestr)\n",
    "print('Memv_byte', memv_byte.tolist())\n",
    "# 同样这块内存也是只读的\n",
    "try:\n",
    "    memv_byte[1] = 1\n",
    "except TypeError as e:\n",
    "    print(repr(e))\n"
   ]
  },
  {
   "cell_type": "markdown",
   "metadata": {},
   "source": [
    "### Deque\n",
    "`collections.deque` 是比 `list` 效率更高，且**线程安全**的双向队列实现。\n",
    "\n",
    "除了 collections 以外，以下 Python 标准库也有对队列的实现：\n",
    "* queue.Queue (可用于线程间通信)\n",
    "* multiprocessing.Queue (可用于进程间通信)\n",
    "* asyncio.Queue\n",
    "* heapq"
   ]
  }
 ],
 "metadata": {
  "kernelspec": {
   "display_name": "Python 3",
   "language": "python",
   "name": "python3"
  },
  "language_info": {
   "codemirror_mode": {
    "name": "ipython",
    "version": 3
   },
   "file_extension": ".py",
   "mimetype": "text/x-python",
   "name": "python",
   "nbconvert_exporter": "python",
   "pygments_lexer": "ipython3",
   "version": "3.7.0"
  }
 },
 "nbformat": 4,
 "nbformat_minor": 2
}
