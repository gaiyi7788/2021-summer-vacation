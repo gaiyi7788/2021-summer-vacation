{
 "cells": [
  {
   "cell_type": "markdown",
   "metadata": {},
   "source": [
    "# 字典和集合\n",
    "\n",
    "> 字典这个数据结构活跃在所有 Python 程序的背后，即便你的源码里并没有直接用到它。  \n",
    "> ——A. M. Kuchling "
   ]
  },
  {
   "cell_type": "markdown",
   "metadata": {},
   "source": [
    "可散列对象需要实现 `__hash__` 和 `__eq__` 函数。  \n",
    "如果两个可散列对象是相等的，那么它们的散列值一定是一样的。"
   ]
  },
  {
   "cell_type": "code",
   "execution_count": null,
   "metadata": {},
   "outputs": [],
   "source": [
    "# 字典提供了很多种构造方法\n",
    "a = dict(one=1, two=2, three=3)\n",
    "b = {'one': 1, 'two': 2, 'three': 3} \n",
    "c = dict(zip(['one', 'two', 'three'], [1, 2, 3])) \n",
    "d = dict([('two', 2), ('one', 1), ('three', 3)]) \n",
    "e = dict({'three': 3, 'one': 1, 'two': 2})\n",
    "a == b == c == d == e"
   ]
  },
  {
   "cell_type": "code",
   "execution_count": null,
   "metadata": {},
   "outputs": [],
   "source": [
    "# 字典推导式\n",
    "r = range(5)\n",
    "d = {n * 2: n for n in r if n < 3}\n",
    "print(d)\n",
    "# setdefault\n",
    "for n in r:\n",
    "    d.setdefault(n, 0)\n",
    "print(d)"
   ]
  },
  {
   "cell_type": "code",
   "execution_count": null,
   "metadata": {},
   "outputs": [],
   "source": [
    "# defaultdcit & __missing__\n",
    "class mydefaultdict(dict):\n",
    "    def __init__(self, value, value_factory):\n",
    "        super().__init__(value)\n",
    "        self._value_factory = value_factory\n",
    "\n",
    "    def __missing__(self, key):\n",
    "        # 要避免循环调用\n",
    "        # return self[key]\n",
    "        self[key] = self._value_factory()\n",
    "        return self[key]\n",
    "\n",
    "d = mydefaultdict({1:1}, list)\n",
    "print(d[1])\n",
    "print(d[2])\n",
    "d[3].append(1)\n",
    "print(d)"
   ]
  },
  {
   "cell_type": "markdown",
   "metadata": {},
   "source": [
    "### 字典的变种\n",
    "* collections.OrderedDict\n",
    "* collections.ChainMap (容纳多个不同的映射对象，然后在进行键查找操作时会从前到后逐一查找，直到被找到为止)\n",
    "* collections.Counter\n",
    "* colllections.UserDict (dict 的 纯 Python 实现)"
   ]
  },
  {
   "cell_type": "code",
   "execution_count": null,
   "metadata": {},
   "outputs": [],
   "source": [
    "# UserDict\n",
    "# 定制化字典时，尽量继承 UserDict 而不是 dict\n",
    "from collections import UserDict\n",
    "\n",
    "class mydict(UserDict):\n",
    "    def __getitem__(self, key):\n",
    "        print('Getting key', key)\n",
    "        return super().__getitem__(key)\n",
    "\n",
    "d = mydict({1:1})\n",
    "print(d[1], d[2])"
   ]
  },
  {
   "cell_type": "code",
   "execution_count": null,
   "metadata": {},
   "outputs": [],
   "source": [
    "# MyppingProxyType 用于构建 Mapping 的只读实例\n",
    "from types import MappingProxyType\n",
    "\n",
    "d = {1: 1}\n",
    "d_proxy = MappingProxyType(d)\n",
    "print(d_proxy[1])\n",
    "try:\n",
    "    d_proxy[1] = 1\n",
    "except Exception as e:\n",
    "    print(repr(e))\n",
    "\n",
    "d[1] = 2\n",
    "print(d_proxy[1])"
   ]
  },
  {
   "cell_type": "code",
   "execution_count": null,
   "metadata": {},
   "outputs": [],
   "source": [
    "# set 的操作\n",
    "# 子集 & 真子集\n",
    "a, b = {1, 2}, {1, 2}\n",
    "print(a <= b, a < b)\n",
    "\n",
    "# discard\n",
    "a = {1, 2, 3}\n",
    "a.discard(3)\n",
    "print(a)\n",
    "\n",
    "# pop\n",
    "print(a.pop(), a.pop())\n",
    "try:\n",
    "    a.pop()\n",
    "except Exception as e:\n",
    "    print(repr(e))"
   ]
  },
  {
   "cell_type": "markdown",
   "metadata": {},
   "source": [
    "### 集合字面量\n",
    "除空集之外，集合的字面量——`{1}`、`{1, 2}`，等等——看起来跟它的数学形式一模一样。**如果是空集，那么必须写成 `set()` 的形式**，否则它会变成一个 `dict`.  \n",
    "跟 `list` 一样，字面量句法会比 `set` 构造方法要更快且更易读。"
   ]
  },
  {
   "cell_type": "markdown",
   "metadata": {},
   "source": [
    "### 集合和字典的实现\n",
    "集合和字典采用散列表来实现：\n",
    "1. 先计算 key 的 `hash`, 根据 hash 的某几位（取决于散列表的大小）找到元素后，将该元素与 key 进行比较\n",
    "2. 若两元素相等，则命中\n",
    "3. 若两元素不等，则发生散列冲突，使用线性探测再散列法进行下一次查询。\n",
    "\n",
    "这样导致的后果：\n",
    "1. 可散列对象必须支持 `hash` 函数；\n",
    "2. 必须支持 `__eq__` 判断相等性；\n",
    "3. 若 `a == b`, 则必须有 `hash(a) == hash(b)`。\n",
    "\n",
    "注：所有由用户自定义的对象都是可散列的，因为他们的散列值由 id() 来获取，而且它们都是不相等的。\n",
    "\n",
    "\n",
    "### 字典的空间开销\n",
    "由于字典使用散列表实现，所以字典的空间效率低下。使用 `tuple` 代替 `dict` 可以有效降低空间消费。  \n",
    "不过：内存太便宜了，不到万不得已也不要开始考虑这种优化方式，**因为优化往往是可维护性的对立面**。\n",
    "\n",
    "往字典中添加键时，如果有散列表扩张的情况发生，则已有键的顺序也会发生改变。所以，**不应该在迭代字典的过程各种对字典进行更改**。"
   ]
  },
  {
   "cell_type": "code",
   "execution_count": null,
   "metadata": {},
   "outputs": [],
   "source": [
    "# 字典中就键的顺序取决于添加顺序\n",
    "\n",
    "keys = [1, 2, 3]\n",
    "dict_ = {}\n",
    "for key in keys:\n",
    "    dict_[key] = None\n",
    "\n",
    "for key, dict_key in zip(keys, dict_):\n",
    "    print(key, dict_key)\n",
    "    assert key == dict_key\n",
    "\n",
    "# 字典中键的顺序不会影响字典比较"
   ]
  }
 ],
 "metadata": {
  "kernelspec": {
   "display_name": "Python 3",
   "language": "python",
   "name": "python3"
  },
  "language_info": {
   "codemirror_mode": {
    "name": "ipython",
    "version": 3
   },
   "file_extension": ".py",
   "mimetype": "text/x-python",
   "name": "python",
   "nbconvert_exporter": "python",
   "pygments_lexer": "ipython3",
   "version": "3.7.0"
  }
 },
 "nbformat": 4,
 "nbformat_minor": 2
}
