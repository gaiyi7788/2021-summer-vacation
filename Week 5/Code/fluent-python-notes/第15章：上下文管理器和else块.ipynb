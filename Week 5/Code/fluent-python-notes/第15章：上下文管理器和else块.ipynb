{
 "cells": [
  {
   "cell_type": "markdown",
   "metadata": {},
   "source": [
    "# 上下文管理和 else 块\n",
    "> 最终，上下文管理器可能几乎与子程序（subroutine）本身一样重要。目前，我们只了解了上下文管理器的皮毛……Basic 语言有 with 语句，而且很多语言都有。但是，在各种语言中 with 语句的作用不同，而且做的都是简单的事，虽然可以避免不断使 用点号查找属性，但是不会做事前准备和事后清理。不要觉得名字一样，就意味着作用也一样。with 语句是非常了不起的特性。  \n",
    "> ——Raymond Hettinger, 雄辩的 Python 布道者\n",
    "\n",
    "本章讨论的特性有：\n",
    "* with 语句和上下文管理器\n",
    "* for、while 和 try 语句的 else 语句"
   ]
  },
  {
   "cell_type": "markdown",
   "metadata": {},
   "source": [
    "## if 语句之外的 else 块\n",
    "> else 子句的行为如下。\n",
    ">\n",
    "> for: 仅当 for 循环运行完毕时（即 for 循环没有被 break 语句中止）才运行 else 块。  \n",
    "> while: 仅当 while 循环因为条件为**假值**而退出时（即 while 循环没有被 break 语句中止）才运行 else 块。  \n",
    "> try: 仅当try 块中没有异常抛出时才运行else 块。官方文档（https://docs.python.org/3/ reference/compound_stmts.html）还指出：“else 子句抛出的异常不会由前面的 except 子句处理。”\n",
    "\n",
    "\n",
    "## try 和 else\n",
    "为了清晰和准确，`try` 块中应该之抛出预期异常的语句。因此，下面这样写更好：\n",
    "```python\n",
    "try：\n",
    "    dangerous_call()\n",
    "    # 不要把 after_call() 放在这里\n",
    "    # 虽然放在这里时的代码运行逻辑是一样的\n",
    "except OSError:\n",
    "    log('OSError')\n",
    "else:\n",
    "    after_call()\n",
    "```"
   ]
  },
  {
   "cell_type": "markdown",
   "metadata": {},
   "source": [
    "## 上下文管理器\n",
    "上下文管理器可以在 `with` 块中改变程序的上下文，并在块结束后将其还原。"
   ]
  },
  {
   "cell_type": "code",
   "execution_count": 2,
   "metadata": {},
   "outputs": [
    {
     "name": "stdout",
     "output_type": "stream",
     "text": [
      "ecilA\n",
      "YKCOWREBBAJ\n",
      "JABBERWOCKY\n",
      "Back to normal\n"
     ]
    }
   ],
   "source": [
    "# 上下文管理器与 __enter__ 方法返回对象的区别\n",
    "\n",
    "class LookingGlass:\n",
    "    def __enter__(self):\n",
    "        import sys\n",
    "        self.original_write = sys.stdout.write\n",
    "        sys.stdout.write = self.reverse_write\n",
    "        return 'JABBERWOCKY'\n",
    "\n",
    "    def reverse_write(self, text):\n",
    "        self.original_write(text[::-1])\n",
    "    \n",
    "    def __exit__(self, exc_type, exc_value, traceback):\n",
    "        import sys\n",
    "        sys.stdout.write = self.original_write\n",
    "        if exc_type is ZeroDivisionError:\n",
    "            print('Please DO NOT divide by zero!')\n",
    "            return True\n",
    "\n",
    "with LookingGlass() as what:    # 这里的 what 是 __enter__ 的返回值\n",
    "    print('Alice')\n",
    "    print(what)\n",
    "\n",
    "print(what)\n",
    "print('Back to normal')"
   ]
  },
  {
   "cell_type": "code",
   "execution_count": 3,
   "metadata": {},
   "outputs": [
    {
     "name": "stdout",
     "output_type": "stream",
     "text": [
      "hhhhha\n",
      "gfedcba\n",
      "abcdefg\n"
     ]
    }
   ],
   "source": [
    "# contextmanager 的使用\n",
    "\n",
    "import contextlib\n",
    "\n",
    "@contextlib.contextmanager\n",
    "def looking_glass():\n",
    "    import sys\n",
    "    original_write = sys.stdout.write\n",
    "    sys.stdout.write = lambda text: original_write(text[::-1])\n",
    "    msg = ''\n",
    "    try:\n",
    "        # 在当前上下文中抛出的异常，会通过 yield 语句抛出\n",
    "        yield 'abcdefg'\n",
    "    except ZeroDivisionError:\n",
    "        msg = 'Please DO NOT divide by zero!'\n",
    "    finally:\n",
    "        # 为了避免上下文内抛出异常导致退出失败\n",
    "        # 所以退出上下文时一定要使用 finally 语句\n",
    "        sys.stdout.write = original_write\n",
    "        if msg:\n",
    "            print(msg)\n",
    "\n",
    "# 写完以后感觉这个用法跟 pytest.fixture 好像啊\n",
    "\n",
    "with looking_glass() as what:\n",
    "    print('ahhhhh')\n",
    "    print(what)\n",
    "\n",
    "print(what)"
   ]
  },
  {
   "cell_type": "markdown",
   "metadata": {},
   "source": [
    "此外，[`contextlib.ExitStack`](https://docs.python.org/3/library/contextlib.html#contextlib.ExitStack) 在某些需要进入未知多个上下文管理器时可以方便管理所有的上下文。具体使用方法可以看文档中的示例。"
   ]
  }
 ],
 "metadata": {
  "kernelspec": {
   "display_name": "Python 3",
   "language": "python",
   "name": "python3"
  },
  "language_info": {
   "codemirror_mode": {
    "name": "ipython",
    "version": 3
   },
   "file_extension": ".py",
   "mimetype": "text/x-python",
   "name": "python",
   "nbconvert_exporter": "python",
   "pygments_lexer": "ipython3",
   "version": "3.7.0"
  }
 },
 "nbformat": 4,
 "nbformat_minor": 2
}
