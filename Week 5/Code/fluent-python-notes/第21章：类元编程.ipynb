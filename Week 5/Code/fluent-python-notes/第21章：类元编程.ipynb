{
 "cells": [
  {
   "cell_type": "markdown",
   "metadata": {},
   "source": [
    "# 类元编程\n",
    "> （元类）是深奥的知识，99% 的用户都无需关注。如果你想知道是否需要使用元类，我告诉你，不需要（真正需要使用元类的人确信他们需要，无需解释原因）。\n",
    "> ——Tim Peters, Timsort 算法的发明者，活跃的 Python 贡献者\n",
    "\n",
    "元类功能强大，但是难以掌握。使用元类可以创建具有某种特质的全新类中，例如我们见过的抽象基类。\n",
    "\n",
    "本章还会谈及导入时和运行时的区别。\n",
    "\n",
    "注：除非开发框架，否则不要编写元类。"
   ]
  },
  {
   "cell_type": "markdown",
   "metadata": {},
   "source": [
    "## 类工厂函数\n",
    "像 `collections.namedtuple` 一样，类工厂函数的返回值是一个类，这个类的特性（如属性名等）可能由函数参数提供。  \n",
    "可以参见[官方示例](https://github.com/fluentpython/example-code/blob/master/21-class-metaprog/factories.py)。  \n",
    "原理：使用 `type` 构造方法，可以构造一个新的类。"
   ]
  },
  {
   "cell_type": "code",
   "execution_count": null,
   "metadata": {},
   "outputs": [],
   "source": [
    "help(type)"
   ]
  },
  {
   "cell_type": "markdown",
   "metadata": {},
   "source": [
    "## 元类\n",
    "元类是一个类，但因为它继承自 `type`，所以可以通过它生成一个类。\n",
    "\n",
    "在使用元类时，将会调用元类的 `__new__` 和 `__init__`，为类添加更多特性。  \n",
    "这一步会在**导入**时完成，而不是在类进行实例化时。\n",
    "\n",
    "元类的作用举例：\n",
    "* 验证属性\n",
    "* 一次性把某个/种装饰器依附到多个方法上（记得以前写过一个装饰器来实现这个功能，因为那个类的 `metaclass` 被占了）\n",
    "* 序列化对象或转换数据\n",
    "* 对象关系映射\n",
    "* 基于对象的持久存储\n",
    "* 动态转换使用其他语言编写的结构\n",
    "\n",
    "### Python 中各种类的关系\n",
    "> `object` 类和 `type` 类的关系很独特：`object` 是 `type` 的实例，而 `type` 是 `object` 的子类。\n",
    "所有类都直接或间接地是 `type` 的实例，不过只有元类同时也是 `type` 的子类，因为**元类从 `type` 类继承了构造类的能力**。\n",
    "\n",
    "这里面的关系比较复杂，简单理一下\n",
    "* 实例关系\n",
    "    * `type` 可以产出类，所以 `type` 的实例是类（`isinstance(int, type)`）；\n",
    "    * 元类继承自 `type` 类，所以元类也具有生成类实例的**能力**（`isinstance(Sequence, ABCMeta)`)\n",
    "* 继承关系\n",
    "    * Python 中一切皆对象，所以所有类都是 `object` 的子类（`object in int.__mro__`）\n",
    "    * 元类要**继承**自 `type` 对象，所以元类是 `type` 的子类（`type in ABCMeta.__mro__`）"
   ]
  },
  {
   "cell_type": "code",
   "execution_count": 6,
   "metadata": {},
   "outputs": [
    {
     "name": "stdout",
     "output_type": "stream",
     "text": [
      "Enter SomeClass\n",
      "Metaclass __init__\n",
      "{'val': 2} {'__module__': '__main__', '__init__': <function SomeClass.__init__ at 0x1113e4510>, '__dict__': <attribute '__dict__' of 'SomeClass' objects>, '__weakref__': <attribute '__weakref__' of 'SomeClass' objects>, '__doc__': None, 'a': 1}\n"
     ]
    }
   ],
   "source": [
    "# 构建一个元类\n",
    "class SomeMeta(type):\n",
    "    def __init__(cls, name, bases, dic):\n",
    "        # 这里 __init__ 的是 SomeClass，因为它是个类，所以我们直接用 cls 而不是 self 来命名它\n",
    "        print('Metaclass __init__')\n",
    "        # 为我们的类添加一个**类**属性\n",
    "        cls.a = 1\n",
    "\n",
    "class SomeClass(metaclass=SomeMeta):\n",
    "    # 在解释器编译这个类的最后，SomeMeta 的 __init__ 将被调用\n",
    "    print('Enter SomeClass')\n",
    "    def __init__(self, val):\n",
    "        # 这个函数在 SomeClass 实例化时才会被调用\n",
    "        self.val = val\n",
    "\n",
    "        \n",
    "assert SomeClass.a == 1    # 元类为类添加的类属性\n",
    "sc = SomeClass(2)\n",
    "assert sc.val == 2\n",
    "assert sc.a == 1\n",
    "print(sc.__dict__, SomeClass.__dict__)"
   ]
  },
  {
   "cell_type": "markdown",
   "metadata": {},
   "source": [
    "关于类构造过程，可以参见官方 Repo 中的[代码执行练习(evaltime)部分](https://github.com/fluentpython/example-code/tree/master/21-class-metaprog)。"
   ]
  },
  {
   "cell_type": "code",
   "execution_count": 16,
   "metadata": {},
   "outputs": [
    {
     "name": "stdout",
     "output_type": "stream",
     "text": [
      "{'name': 'Name', 'title': 'Title'}\n",
      "['Name', 'Title']\n"
     ]
    }
   ],
   "source": [
    "# 用元类构造描述符\n",
    "from collections import OrderedDict\n",
    "\n",
    "\n",
    "class Field:\n",
    "    def __get__(self, instance, cls):\n",
    "        if instance is None:\n",
    "            return self\n",
    "        name = self.__name__\n",
    "        return instance._value_dict.get(name)\n",
    "\n",
    "    def __set__(self, instance, val):\n",
    "        name = self.__name__                    # 通过 _entity_name 属性拿到该字段的名称\n",
    "        instance._value_dict[name] = val\n",
    "\n",
    "        \n",
    "class DesNameMeta(type):\n",
    "    @classmethod\n",
    "    def __prepare__(cls, name, bases):\n",
    "        \"\"\"\n",
    "        Python 3 特有的方法，用于返回一个映射对象\n",
    "        然后传给 __init__ 的 dic 参数\n",
    "        \"\"\"\n",
    "        return OrderedDict()\n",
    "\n",
    "    def __init__(cls, name, bases, dic):\n",
    "        field_names = []\n",
    "        for name, val in dic.items():\n",
    "            if isinstance(val, Field):\n",
    "                val.__name__ = name            # 在生成类的时候，将属性名加到了描述符中\n",
    "                field_names.append(name)\n",
    "        cls._field_names = field_names\n",
    "        \n",
    "\n",
    "\n",
    "class NewDesNameMeta(type):                    # 使用 __new__ 方法构造新类\n",
    "    def __new__(cls, name, bases, dic):\n",
    "        for name, val in dic.items():\n",
    "            if isinstance(val, Field):\n",
    "                val.__name__ = name\n",
    "        return super().__new__(cls, name, bases, dic)\n",
    "\n",
    "\n",
    "class SomeClass(metaclass=DesNameMeta):\n",
    "    name = Field()\n",
    "    title = Field()\n",
    "    \n",
    "    def __init__(self):\n",
    "        self._value_dict = {}\n",
    "    \n",
    "    def __iter__(self):\n",
    "        \"\"\"\n",
    "        按定义顺序输出属性值\n",
    "        \"\"\"\n",
    "        for field in self._field_names:\n",
    "            yield getattr(self, field)\n",
    "\n",
    "\n",
    "assert SomeClass.name.__name__ == 'name'\n",
    "sc = SomeClass()\n",
    "sc.name = 'Name'\n",
    "sc.title = 'Title'\n",
    "assert sc.name == 'Name'\n",
    "print(sc._value_dict)\n",
    "print(list(sc))"
   ]
  },
  {
   "cell_type": "markdown",
   "metadata": {},
   "source": [
    "上面的例子只是演示作用，实际上在设计框架的时候，`SomeClass` 会设计为一个基类（`models.Model`），框架用户只要继承自 `Model` 即可正常使用 `Field` 中的属性名，而无须知道 `DesNameMeta` 的存在。"
   ]
  },
  {
   "cell_type": "markdown",
   "metadata": {},
   "source": [
    "## 类的一些特殊属性\n",
    "类上有一些特殊属性，这些属性不会在 `dir()` 中被列出，访问它们可以获得类的一些元信息。  \n",
    "同时，元类可以更改这些属性，以定制类的某些行为。\n",
    "\n",
    "* `cls.__bases__`  \n",
    "    由类的基类组成的元组\n",
    "* `cls.__qualname__`  \n",
    "    类或函数的限定名称，即从模块的全局作用域到类的点分路径\n",
    "* `cls.__subclasses__()`  \n",
    "    这个方法返回一个列表，包含类的**直接**子类\n",
    "* `cls.__mro__`  \n",
    "    类的方法解析顺序，这个属性是只读的，元类无法进行修改\n",
    "* `cls.mro()`  \n",
    "    构建类时，如果需要获取储存在类属性 __mro__ 中的超类元组，解释器会调用这个方法。元类可以覆盖这个方法，定制要构建的类解析方法的顺序。"
   ]
  },
  {
   "cell_type": "markdown",
   "metadata": {},
   "source": [
    "## 延伸阅读\n",
    "[`types.new_class`](https://docs.python.org/3/library/types.html#types.new_class) 和 `types.prepare_class` 可以辅助我们进行类元编程。\n",
    "\n",
    "最后附上一个名言警句：\n",
    "\n",
    "> 此外，不要在生产代码中定义抽象基类(或元类)……如果你很想这样做，我打赌可能是因为你想“找茬”，刚拿到新工具的人都有大干一场的冲动。如果你能避开这些深奥的概念，你(以及未来的代码维护者)的生活将更愉快，因为代码简洁明了。  \n",
    "> ——Alex Martelli"
   ]
  }
 ],
 "metadata": {
  "kernelspec": {
   "display_name": "Python 3",
   "language": "python",
   "name": "python3"
  },
  "language_info": {
   "codemirror_mode": {
    "name": "ipython",
    "version": 3
   },
   "file_extension": ".py",
   "mimetype": "text/x-python",
   "name": "python",
   "nbconvert_exporter": "python",
   "pygments_lexer": "ipython3",
   "version": "3.7.0"
  }
 },
 "nbformat": 4,
 "nbformat_minor": 2
}
