{
 "cells": [
  {
   "cell_type": "markdown",
   "metadata": {},
   "source": [
    "# 动态属性和特性\n",
    "> 特性至关重要的地方在于，特性的存在使得开发者可以非常安全并且确定可行地将公共数据属性作为类的公共接口的一部分开放出来。\n",
    "> ——Alex Martelli, Python 贡献者和图书作者\n",
    "\n",
    "本章内容：\n",
    "* 特性（property）\n",
    "* 动态属性存取（`__getattr__` 和 `__setattr__`）\n",
    "* 对象的动态创建（`__new__`）"
   ]
  },
  {
   "cell_type": "markdown",
   "metadata": {},
   "source": [
    "## 特性\n",
    "Python 特性（property）可以使我们在不改变接口的前提下，使用**存取方法**修改数据属性。"
   ]
  },
  {
   "cell_type": "code",
   "execution_count": 3,
   "metadata": {},
   "outputs": [
    {
     "name": "stdout",
     "output_type": "stream",
     "text": [
      "Set val 1\n",
      "Val deleted!\n"
     ]
    }
   ],
   "source": [
    "# property\n",
    "class A:\n",
    "    def __init__(self):\n",
    "        self._val = 0\n",
    "    \n",
    "    @property\n",
    "    def val(self):\n",
    "        return self._val\n",
    "\n",
    "    @val.setter\n",
    "    def val(self, val):\n",
    "        print('Set val', val)\n",
    "        self._val = val\n",
    "    \n",
    "    @val.deleter\n",
    "    def val(self):\n",
    "        print('Val deleted!')\n",
    "\n",
    "a = A()\n",
    "assert a.val == 0\n",
    "a.val = 1\n",
    "assert a.val == 1\n",
    "del a.val\n",
    "assert a.val == 1      # del val 只是触发了 deleter 方法，再取值时还会执行 val 的 getter 函数"
   ]
  },
  {
   "cell_type": "markdown",
   "metadata": {},
   "source": [
    "## 动态属性\n",
    "当访问对象的某个属性时，如果对象没有这个属性，解释器会尝试调用对象的 `__attr__` 方法。  \n",
    "但是注意，这个属性名必须是一个合法的标识符。\n",
    "\n",
    "注：`__getattr__` 和 `__getattribute__` 的区别在于，`__getattribute__` 在每次访问对象属性时都会触发，而 `__getattr__` 只在该对象没有这个属性的时候才会触发。"
   ]
  },
  {
   "cell_type": "code",
   "execution_count": 10,
   "metadata": {},
   "outputs": [
    {
     "name": "stdout",
     "output_type": "stream",
     "text": [
      "getattribute a\n",
      "getattribute b\n",
      "getattr b\n",
      "1 b\n"
     ]
    }
   ],
   "source": [
    "class B:\n",
    "    a = 1\n",
    "    def __getattr__(self, attr):\n",
    "        print('getattr', attr)\n",
    "        return attr\n",
    "\n",
    "    def __getattribute__(self, attr):\n",
    "        print('getattribute', attr)\n",
    "        return super().__getattribute__(attr)\n",
    "\n",
    "b = B()\n",
    "print(b.a, b.b)"
   ]
  },
  {
   "cell_type": "markdown",
   "metadata": {},
   "source": [
    "## __new__ 方法\n",
    "`__new__` 方法是类上的一个特殊方法，用于生成一个新对象。  \n",
    "与 `__init__` 不同，`__new__` 方法必须要返回一个对象，而 `__init__` 则不需要。  \n",
    "调用 `A.__new__` 时，返回的对象不一定需要是 A 类的实例。"
   ]
  },
  {
   "cell_type": "code",
   "execution_count": 17,
   "metadata": {},
   "outputs": [
    {
     "name": "stdout",
     "output_type": "stream",
     "text": [
      "arg bar\n",
      "arg bar\n"
     ]
    }
   ],
   "source": [
    "# 对象构造过程示意\n",
    "class Foo:\n",
    "    # __new__ 是一个特殊方法，所以不需要 @classmethod 装饰器\n",
    "    def __new__(cls, arg):\n",
    "        if arg is None:\n",
    "            return []\n",
    "        return super().__new__(cls)   # 用 object.__new__ 生成对象后开始执行 __init__ 函数\n",
    "\n",
    "    def __init__(self, arg):\n",
    "        print('arg:', arg)\n",
    "        self.arg = arg\n",
    "\n",
    "\n",
    "def object_maker(the_class, some_arg):\n",
    "    new_object = the_class.__new__(the_class, some_arg)\n",
    "    if isinstance(new_object, the_class):\n",
    "        the_class.__init__(new_object, some_arg)\n",
    "    return new_object \n",
    " \n",
    "# 下述两个语句的作用基本等效\n",
    "x = Foo('bar')\n",
    "y = object_maker(Foo, 'bar')\n",
    "assert x.arg == y.arg == 'bar'\n",
    "n = Foo(None)\n",
    "assert n == []"
   ]
  },
  {
   "cell_type": "markdown",
   "metadata": {},
   "source": [
    "## 杂谈\n",
    "[shelve](https://docs.python.org/3/library/shelve.html) 是 Python 自带的、类 `dict` 的 KV 数据库，支持持久化存储。\n",
    "\n",
    "```python\n",
    "import shelve\n",
    "\n",
    "d = shelve.open(filename)  # open -- file may get suffix added by low-level\n",
    "                           # library\n",
    "\n",
    "d[key] = data              # store data at key (overwrites old data if\n",
    "                           # using an existing key)\n",
    "data = d[key]              # retrieve a COPY of data at key (raise KeyError\n",
    "                           # if no such key)\n",
    "del d[key]                 # delete data stored at key (raises KeyError\n",
    "                           # if no such key)\n",
    "\n",
    "flag = key in d            # true if the key exists\n",
    "klist = list(d.keys())     # a list of all existing keys (slow!)\n",
    "\n",
    "# as d was opened WITHOUT writeback=True, beware:\n",
    "d['xx'] = [0, 1, 2]        # this works as expected, but...\n",
    "d['xx'].append(3)          # *this doesn't!* -- d['xx'] is STILL [0, 1, 2]!\n",
    "\n",
    "# having opened d without writeback=True, you need to code carefully:\n",
    "temp = d['xx']             # extracts the copy\n",
    "temp.append(5)             # mutates the copy\n",
    "d['xx'] = temp             # stores the copy right back, to persist it\n",
    "\n",
    "# or, d=shelve.open(filename,writeback=True) would let you just code\n",
    "# d['xx'].append(5) and have it work as expected, BUT it would also\n",
    "# consume more memory and make the d.close() operation slower.\n",
    "\n",
    "d.close()                  # close it\n",
    "```\n",
    "架子（shelve）上放一堆泡菜（pickle）坛子…没毛病。"
   ]
  }
 ],
 "metadata": {
  "kernelspec": {
   "display_name": "Python 3",
   "language": "python",
   "name": "python3"
  },
  "language_info": {
   "codemirror_mode": {
    "name": "ipython",
    "version": 3
   },
   "file_extension": ".py",
   "mimetype": "text/x-python",
   "name": "python",
   "nbconvert_exporter": "python",
   "pygments_lexer": "ipython3",
   "version": "3.7.0"
  }
 },
 "nbformat": 4,
 "nbformat_minor": 2
}
