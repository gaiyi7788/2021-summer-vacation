{
 "cells": [
  {
   "cell_type": "markdown",
   "metadata": {},
   "source": [
    "# 函数装饰器与闭包\n",
    "\n",
    "> 有很多人抱怨，把这个特性命名为“装饰器”不好。主要原因是，这个名称与 GoF 书使用的不一致。**装饰器**这个名称可能更适合在编译器领域使用，因为它会遍历并注解语法书。\n",
    "> —“PEP 318 — Decorators for Functions and Methods”\n",
    "\n",
    "本章的最终目标是解释清楚函数装饰器的工作原理，包括最简单的注册装饰器和较复杂的参数化装饰器。  \n",
    "\n",
    "讨论内容：\n",
    "* Python 如何计算装饰器语法\n",
    "* Python 如何判断变量是不是局部的\n",
    "* 闭包存在的原因和工作原理\n",
    "* `nonlocal` 能解决什么问题\n",
    "* 实现行为良好的装饰器\n",
    "* 标准库中有用的装饰器\n",
    "* 实现一个参数化的装饰器"
   ]
  },
  {
   "cell_type": "markdown",
   "metadata": {},
   "source": [
    "装饰器是可调用的对象，其参数是一个函数（被装饰的函数）。装饰器可能会处理被装饰的函数，然后把它返回，或者将其替换成另一个函数或可调用对象。\n",
    "\n",
    "装饰器两大特性：\n",
    "1. 能把被装饰的函数替换成其他函数\n",
    "2. 装饰器在加载模块时立即执行"
   ]
  },
  {
   "cell_type": "code",
   "execution_count": null,
   "metadata": {},
   "outputs": [],
   "source": [
    "# 装饰器通常会把函数替换成另一个函数\n",
    "def decorate(func):\n",
    "    def wrapped():\n",
    "        print('Running wrapped()')\n",
    "    return wrapped\n",
    "\n",
    "@decorate\n",
    "def target():\n",
    "    print('running target()')\n",
    "\n",
    "target()\n",
    "# 以上写法等同于\n",
    "def target():\n",
    "    print('running target()')\n",
    "\n",
    "target = decorate(target)\n",
    "target()"
   ]
  },
  {
   "cell_type": "code",
   "execution_count": null,
   "metadata": {},
   "outputs": [],
   "source": [
    "# 装饰器在导入时（模块加载时）立即执行\n",
    "registry = []\n",
    "def register(func):\n",
    "    print('running register {}'.format(func))\n",
    "    registry.append(func)\n",
    "    return func\n",
    "\n",
    "@register\n",
    "def f1():\n",
    "    print('running f1()')\n",
    "\n",
    "@register\n",
    "def f2():\n",
    "    print('running f2()')\n",
    "\n",
    "\n",
    "print('registry →', registry)"
   ]
  },
  {
   "cell_type": "markdown",
   "metadata": {},
   "source": [
    "上面的装饰器会原封不动地返回被装饰的函数，而不一定会对函数做修改。  \n",
    "这种装饰器叫注册装饰器，通过使用它来中心化地注册函数，例如把 URL 模式映射到生成 HTTP 响应的函数上的注册处。\n",
    "\n",
    "```python\n",
    "@app.get('/')\n",
    "def index():\n",
    "    return \"Welcome.\"\n",
    "```\n",
    "\n",
    "可以使用装饰器来实现策略模式，通过它来注册并获取所有的策略。"
   ]
  },
  {
   "cell_type": "code",
   "execution_count": null,
   "metadata": {},
   "outputs": [],
   "source": [
    "# 变量作用域规则\n",
    "b = 1\n",
    "def f2(a):\n",
    "    print(a)\n",
    "    print(b)        # 因为 b 在后面有赋值操作，所以认为 b 为局部变量，所以referenced before assignment\n",
    "    b = 2\n",
    "\n",
    "f2(3)"
   ]
  },
  {
   "cell_type": "code",
   "execution_count": null,
   "metadata": {},
   "outputs": [],
   "source": [
    "# 使用 global 声明 b 为全局变量\n",
    "b = 1\n",
    "def f3(a):\n",
    "    global b\n",
    "    print(a)\n",
    "    print(b)\n",
    "    b = 9\n",
    "\n",
    "print(b)\n",
    "f3(2)\n",
    "print(b)"
   ]
  },
  {
   "cell_type": "code",
   "execution_count": 23,
   "metadata": {},
   "outputs": [
    {
     "name": "stdout",
     "output_type": "stream",
     "text": [
      "{'n': 1, 'rrrr': []}\n",
      "[1]\n",
      "{'n': 2, 'rrrr': [1]}\n",
      "[1, 2]\n",
      "{'rrrr': [1, 2]}\n"
     ]
    }
   ],
   "source": [
    "# 闭包\n",
    "# 涉及嵌套函数时，才会产生闭包问题\n",
    "def register():\n",
    "    rrrr = []                # 叫 registry 会跟上面的变量重名掉…\n",
    "    def wrapped(n):\n",
    "        print(locals())      # locals() 的作用域延伸到了 wrapped 之外\n",
    "        rrrr.append(n)\n",
    "        return rrrr\n",
    "    return wrapped\n",
    "\n",
    "# num 为**自由变量**，它未在本地作用域中绑定，但函数可以在其本身的作用域之外引用这个变量\n",
    "c = register()\n",
    "print(c(1))\n",
    "print(c(2))\n",
    "assert 'rrrr' not in locals()\n",
    "\n",
    "# 获取函数中的自由变量\n",
    "print({\n",
    "    name: cell.cell_contents\n",
    "    for name, cell in zip(c.__code__.co_freevars, c.__closure__)\n",
    "})"
   ]
  },
  {
   "cell_type": "code",
   "execution_count": 25,
   "metadata": {},
   "outputs": [
    {
     "name": "stdout",
     "output_type": "stream",
     "text": [
      "1 2\n"
     ]
    }
   ],
   "source": [
    "# 闭包内变量赋值与 nonlocal 声明\n",
    "def counter():\n",
    "    n = 0\n",
    "    def count():\n",
    "        n += 1      # n = n + 1, 所以将 n 视为局部变量，但未声明，触发 UnboundLocalError\n",
    "        return n\n",
    "    return count\n",
    "\n",
    "def counter():\n",
    "    n = 0\n",
    "    def count():\n",
    "        nonlocal n  # 使用 nonlocal 对 n 进行声明，它可以把 n 标记为局部变量\n",
    "        n += 1      # 这个 n 和上面的 n 引用的时同一个值，更新这个，上面也会更新\n",
    "        return n\n",
    "    return count\n",
    "\n",
    "\n",
    "c = counter()\n",
    "print(c(), c())"
   ]
  },
  {
   "cell_type": "code",
   "execution_count": 33,
   "metadata": {},
   "outputs": [
    {
     "name": "stdout",
     "output_type": "stream",
     "text": [
      "1.002901900000012\n"
     ]
    }
   ],
   "source": [
    "# 开始实现装饰器\n",
    "# 装饰器的典型行为：把被装饰的函数替换成新函数，二者接受相同的参数，而且（通常）返回被装饰的函数本该返回的值，同时还会做些额外操作\n",
    "import time\n",
    "from functools import wraps\n",
    "\n",
    "def clock(func):\n",
    "    @wraps(func)                         # 用 func 的部分标注属性（如 __doc__, __name__）覆盖新函数的值\n",
    "    def clocked(*args, **kwargs):\n",
    "        t0 = time.perf_counter()\n",
    "        result = func(*args, **kwargs)\n",
    "        t1 = time.perf_counter()\n",
    "        print(t1 - t0)\n",
    "        return result\n",
    "    return clocked\n",
    "\n",
    "@clock\n",
    "def snooze(seconds):\n",
    "    time.sleep(seconds)\n",
    "\n",
    "snooze(1)"
   ]
  },
  {
   "cell_type": "markdown",
   "metadata": {},
   "source": [
    "Python 内置的三个装饰器分别为 `property`, `classmethod` 和 `staticmethod`.  \n",
    "但 Python 内置的库中，有两个装饰器很常用，分别为 `functools.lru_cache` 和 [`functools.singledispatch`](https://docs.python.org/3/library/functools.html#functools.singledispatch)."
   ]
  },
  {
   "cell_type": "code",
   "execution_count": 35,
   "metadata": {},
   "outputs": [
    {
     "name": "stdout",
     "output_type": "stream",
     "text": [
      "1 called\n",
      "1\n",
      "1\n",
      "2 called\n",
      "2\n"
     ]
    }
   ],
   "source": [
    "# lru_cache\n",
    "# 通过内置的 LRU 缓存来存储函数返回值\n",
    "# 使用它可以对部分递归函数进行优化（比如递归的阶乘函数）（不过也没什么人会这么写吧）\n",
    "from functools import lru_cache\n",
    "\n",
    "@lru_cache()\n",
    "def func(n):\n",
    "    print(n, 'called')\n",
    "    return n\n",
    "\n",
    "print(func(1))\n",
    "print(func(1))\n",
    "print(func(2))"
   ]
  },
  {
   "cell_type": "code",
   "execution_count": 40,
   "metadata": {},
   "outputs": [
    {
     "name": "stdout",
     "output_type": "stream",
     "text": [
      "Integer 1\n",
      "Object test\n",
      "Object []\n"
     ]
    }
   ],
   "source": [
    "# singledispatch\n",
    "# 单分派泛函数：将多个函数绑定在一起组成一个泛函数，它可以通过参数类型将调用分派至其他函数上\n",
    "from functools import singledispatch\n",
    "import numbers\n",
    "\n",
    "@singledispatch\n",
    "def func(obj):\n",
    "    print('Object', obj)\n",
    "\n",
    "# 只要可能，注册的专门函数应该处理抽象基类，不要处理具体实现（如 int）\n",
    "@func.register(numbers.Integral)\n",
    "def _(n):\n",
    "    print('Integer', n)\n",
    "\n",
    "# 可以使用函数标注来进行分派注册\n",
    "@func.register\n",
    "def _(s:str):\n",
    "    print('String', s)\n",
    "    \n",
    "func(1)\n",
    "func('test')\n",
    "func([])"
   ]
  },
  {
   "cell_type": "markdown",
   "metadata": {},
   "source": [
    "### 叠放装饰器\n",
    "```python\n",
    "@d1\n",
    "@d2\n",
    "def func():\n",
    "    pass\n",
    "\n",
    "# 等同于\n",
    "func = d1(d2(func))\n",
    "```\n",
    "\n",
    "### 参数化装饰器\n",
    "为了方便理解，可以把参数化装饰器看成一个函数：这个函数接受任意参数，返回一个装饰器（参数为 func 的另一个函数）。"
   ]
  },
  {
   "cell_type": "code",
   "execution_count": 43,
   "metadata": {},
   "outputs": [
    {
     "name": "stdout",
     "output_type": "stream",
     "text": [
      "test called 1 times.\n",
      "test called 2 times.\n",
      "t2 called 2 times.\n",
      "t2 called 3 times.\n"
     ]
    }
   ],
   "source": [
    "# 参数化装饰器\n",
    "def counter(start=1):\n",
    "    def decorator(func):\n",
    "        n = start\n",
    "        def wrapped(*args, **kwargs):\n",
    "            nonlocal n\n",
    "            print(f'{func.__name__} called {n} times.')\n",
    "            n += 1\n",
    "            return func(*args, **kwargs)\n",
    "        return wrapped\n",
    "    return decorator\n",
    "\n",
    "def test():\n",
    "    return\n",
    "\n",
    "t1 = counter(start=1)(test)\n",
    "t1()\n",
    "t1()\n",
    "\n",
    "@counter(start=2)\n",
    "def t2():\n",
    "    return\n",
    "\n",
    "t2()\n",
    "t2()"
   ]
  },
  {
   "cell_type": "code",
   "execution_count": 46,
   "metadata": {},
   "outputs": [
    {
     "name": "stdout",
     "output_type": "stream",
     "text": [
      "t3 called 1 times.\n",
      "t3 called 2 times.\n"
     ]
    }
   ],
   "source": [
    "# （可能是）更简洁的装饰器实现方式\n",
    "# 利用 class.__call__\n",
    "\n",
    "class counter:\n",
    "    def __init__(self, func):\n",
    "        self.n = 1\n",
    "        self.func = func\n",
    "\n",
    "    def __call__(self, *args, **kwargs):\n",
    "        print(f'{self.func.__name__} called {self.n} times.')\n",
    "        self.n += 1\n",
    "        return self.func(*args, **kwargs)\n",
    "\n",
    "@counter\n",
    "def t3():\n",
    "    return\n",
    "\n",
    "t3()\n",
    "t3()"
   ]
  },
  {
   "cell_type": "markdown",
   "metadata": {},
   "source": [
    "推荐阅读：[decorator 第三方库](http://decorator.readthedocs.io/en/latest/)"
   ]
  },
  {
   "cell_type": "code",
   "execution_count": 59,
   "metadata": {},
   "outputs": [
    {
     "name": "stdout",
     "output_type": "stream",
     "text": [
      "f called 1 times.\n",
      "2\n",
      "f called 2 times.\n",
      "3\n"
     ]
    }
   ],
   "source": [
    "from decorator import decorator\n",
    "\n",
    "@decorator\n",
    "def counter(func, *args, **kwargs):\n",
    "    if not hasattr(func, 'n'):\n",
    "        func.n = 1\n",
    "    print(f'{func.__qualname__} called {func.n} times.')\n",
    "    retval = func(*args, **kwargs)\n",
    "    func.n += 1\n",
    "    return retval\n",
    "\n",
    "\n",
    "@counter\n",
    "def f(n):\n",
    "    return n\n",
    "\n",
    "print(f(2))\n",
    "print(f(3))"
   ]
  }
 ],
 "metadata": {
  "kernelspec": {
   "display_name": "Python 3",
   "language": "python",
   "name": "python3"
  },
  "language_info": {
   "codemirror_mode": {
    "name": "ipython",
    "version": 3
   },
   "file_extension": ".py",
   "mimetype": "text/x-python",
   "name": "python",
   "nbconvert_exporter": "python",
   "pygments_lexer": "ipython3",
   "version": "3.6.3"
  }
 },
 "nbformat": 4,
 "nbformat_minor": 2
}
