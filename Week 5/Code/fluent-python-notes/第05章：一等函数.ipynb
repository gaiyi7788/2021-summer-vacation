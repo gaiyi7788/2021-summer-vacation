{
 "cells": [
  {
   "cell_type": "markdown",
   "metadata": {},
   "source": [
    "# 一等函数\n",
    "\n",
    "> 不管别人怎么说或怎么想，我从未觉得 Python 受到来自函数式语言的太多影响。我非常熟悉命令式语言，如 C 和 Algol 68，虽然我把函数定为一等对象，但是我并不把 Python 当作函数式编程语言。  \n",
    "> —— Guido van Rossum: Python 仁慈的独裁者\n",
    "\n",
    "在 Python 中，函数是一等对象。  \n",
    "编程语言理论家把“一等对象”定义为满足下述条件的程序实体：\n",
    "* 在运行时创建\n",
    "* 能赋值给变量或数据结构中的元素\n",
    "* 能作为参数传给函数\n",
    "* 能作为函数的返回结果"
   ]
  },
  {
   "cell_type": "code",
   "execution_count": 7,
   "metadata": {},
   "outputs": [
    {
     "name": "stdout",
     "output_type": "stream",
     "text": [
      "['fig', 'apple', 'cherry', 'banana', 'raspberry', 'strawberry']\n",
      "[1, 1, 2, 6, 24, 120]\n",
      "5050\n",
      "False True\n"
     ]
    }
   ],
   "source": [
    "# 高阶函数：有了一等函数（作为一等对象的函数），就可以使用函数式风格编程\n",
    "fruits = ['strawberry', 'fig', 'apple', 'cherry', 'raspberry', 'banana']\n",
    "print(list(sorted(fruits, key=len)))  # 函数 len 成为了一个参数\n",
    "\n",
    "# lambda 函数 & map\n",
    "fact = lambda x: 1 if x == 0 else x * fact(x-1)\n",
    "print(list(map(fact, range(6))))\n",
    "\n",
    "# reduce\n",
    "from functools import reduce\n",
    "from operator import add\n",
    "print(reduce(add, range(101)))\n",
    "\n",
    "# all & any\n",
    "x = [0, 1]\n",
    "print(all(x), any(x))"
   ]
  },
  {
   "cell_type": "markdown",
   "metadata": {},
   "source": [
    "Python 的可调用对象\n",
    "* 用户定义的函数：使用 `def` 或 `lambda` 创建\n",
    "* 内置函数：如 `len` 或 `time.strfttime`\n",
    "* 内置方法：如 `dict.get`（没懂这俩有什么区别…是说这个函数作为对象属性出现吗？）\n",
    "* 类：先调用 `__new__` 创建实例，再对实例运行 `__init__` 方法\n",
    "* 类的实例：如果类上定义了 `__call__` 方法，则实例可以作为函数调用\n",
    "* 生成器函数：调用生成器函数会返回生成器对象"
   ]
  },
  {
   "cell_type": "code",
   "execution_count": 22,
   "metadata": {},
   "outputs": [
    {
     "name": "stdout",
     "output_type": "stream",
     "text": [
      "1 2\n",
      "{'b': 1} {'d': 3}\n",
      "-----\n",
      "(a, b=1, *, c, d=3)\n",
      "POSITIONAL_OR_KEYWORD : a = <class 'inspect._empty'>\n",
      "POSITIONAL_OR_KEYWORD : b = 1\n",
      "KEYWORD_ONLY : c = <class 'inspect._empty'>\n",
      "KEYWORD_ONLY : d = 3\n",
      "-----\n",
      "<BoundArguments (a=1, b=5, c=4)>\n",
      "<BoundArguments (a=1, b=5, c=4, d=3)>\n"
     ]
    }
   ],
   "source": [
    "# 获取函数中的信息\n",
    "# 仅限关键词参数\n",
    "def f(a, *, b):\n",
    "    print(a, b)\n",
    "f(1, b=2)\n",
    "\n",
    "# 获取函数的默认参数\n",
    "# 原生的方法\n",
    "def f(a, b=1, *, c, d=3):\n",
    "    pass\n",
    "\n",
    "def parse_defaults(func):\n",
    "    code = func.__code__\n",
    "    argcount = code.co_argcount  # 2\n",
    "    varnames = code.co_varnames  # ('a', 'b', 'c', 'd')\n",
    "    argdefaults = dict(zip(reversed(varnames[:argcount]), func.__defaults__))\n",
    "    kwargdefaults = func.__kwdefaults__\n",
    "    return argdefaults, kwargdefaults\n",
    "\n",
    "print(*parse_defaults(f))\n",
    "print('-----')\n",
    "# 看起来很麻烦，可以使用 inspect 模块\n",
    "from inspect import signature\n",
    "sig = signature(f)\n",
    "print(str(sig))\n",
    "for name, param in sig.parameters.items():\n",
    "    print(param.kind, ':', name, \"=\", param.default)\n",
    "print('-----')\n",
    "# signature.bind 可以在不真正运行函数的情况下进行参数检查\n",
    "args = sig.bind(1, b=5, c=4)\n",
    "print(args)\n",
    "args.apply_defaults()\n",
    "print(args)"
   ]
  },
  {
   "cell_type": "code",
   "execution_count": 26,
   "metadata": {},
   "outputs": [
    {
     "name": "stdout",
     "output_type": "stream",
     "text": [
      "<class 'str'>\n",
      "<class 'str'> : text = <class 'inspect._empty'>\n",
      "'int > 0'     : max_len = 80\n"
     ]
    }
   ],
   "source": [
    "# 函数注解\n",
    "def clip(text: str, max_len: 'int > 0'=80) -> str:\n",
    "    pass\n",
    "\n",
    "from inspect import signature\n",
    "sig = signature(clip)\n",
    "print(sig.return_annotation)\n",
    "for param in sig.parameters.values():\n",
    "    note = repr(param.annotation).ljust(13)\n",
    "    print(\"{note:13} : {name} = {default}\".format(\n",
    "        note=repr(param.annotation), name=param.name,\n",
    "        default=param.default))"
   ]
  },
  {
   "cell_type": "markdown",
   "metadata": {},
   "source": [
    "#### 支持函数式编程的包\n",
    "`operator` 里有很多函数，对应着 Python 中的内置运算符，使用它们可以避免编写很多无趣的 `lambda` 函数，如：\n",
    "* `add`: `lambda a, b: a + b`\n",
    "* `or_`: `lambda a, b: a or b`\n",
    "* `itemgetter`: `lambda a, b: a[b]`\n",
    "* `attrgetter`: `lambda a, b: getattr(a, b)`\n",
    "\n",
    "`functools` 包中提供了一些高阶函数用于函数式编程，如：`reduce` 和 `partial`。  \n",
    "此外，`functools.wraps` 可以保留函数的一些元信息，在编写装饰器时经常会用到。\n"
   ]
  },
  {
   "cell_type": "code",
   "execution_count": 23,
   "metadata": {},
   "outputs": [
    {
     "name": "stdout",
     "output_type": "stream",
     "text": [
      "1 1 2 3 5 \n",
      "{'i': 5, 'j': 8}\n"
     ]
    }
   ],
   "source": [
    "# Bonus: 获取闭包中的内容\n",
    "def fib_generator():\n",
    "    i, j = 0, 1\n",
    "    def f():\n",
    "        nonlocal i, j\n",
    "        i, j = j, i + j\n",
    "        return i\n",
    "    return f\n",
    "\n",
    "c = fib_generator()\n",
    "for _ in range(5):\n",
    "    print(c(), end=' ')\n",
    "print()\n",
    "print(dict(zip(\n",
    "    c.__code__.co_freevars,\n",
    "    (x.cell_contents for x in c.__closure__))))"
   ]
  }
 ],
 "metadata": {
  "kernelspec": {
   "display_name": "Python 3",
   "language": "python",
   "name": "python3"
  },
  "language_info": {
   "codemirror_mode": {
    "name": "ipython",
    "version": 3
   },
   "file_extension": ".py",
   "mimetype": "text/x-python",
   "name": "python",
   "nbconvert_exporter": "python",
   "pygments_lexer": "ipython3",
   "version": "3.7.0"
  }
 },
 "nbformat": 4,
 "nbformat_minor": 2
}
